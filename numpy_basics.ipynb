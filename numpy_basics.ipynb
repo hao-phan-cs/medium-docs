{
  "nbformat": 4,
  "nbformat_minor": 0,
  "metadata": {
    "colab": {
      "name": "numpy_basics",
      "version": "0.3.2",
      "provenance": [],
      "collapsed_sections": [],
      "include_colab_link": true
    },
    "kernelspec": {
      "name": "python3",
      "display_name": "Python 3"
    }
  },
  "cells": [
    {
      "cell_type": "markdown",
      "metadata": {
        "id": "view-in-github",
        "colab_type": "text"
      },
      "source": [
        "<a href=\"https://colab.research.google.com/github/hao-phan-cs/medium-docs/blob/master/numpy_basics.ipynb\" target=\"_parent\"><img src=\"https://colab.research.google.com/assets/colab-badge.svg\" alt=\"Open In Colab\"/></a>"
      ]
    },
    {
      "cell_type": "markdown",
      "metadata": {
        "id": "U6HySA6EsnaX",
        "colab_type": "text"
      },
      "source": [
        "## Giới thiệu về NumPy"
      ]
    },
    {
      "cell_type": "markdown",
      "metadata": {
        "id": "KFq_Eioo33xc",
        "colab_type": "text"
      },
      "source": [
        "- NumPy là một thư viện của Python, sỡ hữu kiểu dữ liệu chính là NumPy array và các hàm hỗ trợ xử lí dữ liệu. Về cơ bản, NumPy arrays có bản chất tương tự như \"list\". Nhưng các phần tử có cùng kiểu dữ liệu và nó có các ưu điểm phục vụ cho việc thao tác, xử lí dữ liệu như nhanh hơn, tiện dụng hơn và tiêu hao ít bộ nhớ.\n",
        "- NumPy rất hữu ích cho việc tính toán các mảng nhiều chiều, có kích thước lớn với các hàm số đã được tối ưu áp dụng lên các mảng nhiều chiều đó, đặc biệt là các hàm số liên quan tới Đại Số Tuyến Tính."
      ]
    },
    {
      "cell_type": "markdown",
      "metadata": {
        "id": "_mvXc0Xg4FVj",
        "colab_type": "text"
      },
      "source": [
        "Sau khi đã cài đặt xong NumPy, chúng ta cần import nó để sử dụng như các thư viện khác của Python để sử dụng các hàm số của NumPy:\n",
        "\n",
        "\n"
      ]
    },
    {
      "cell_type": "code",
      "metadata": {
        "id": "x36aw55b4FDG",
        "colab_type": "code",
        "colab": {}
      },
      "source": [
        "import numpy as np"
      ],
      "execution_count": 0,
      "outputs": []
    },
    {
      "cell_type": "markdown",
      "metadata": {
        "id": "3nbqaSJl89ei",
        "colab_type": "text"
      },
      "source": [
        "## Khởi tạo mảng với NumPy"
      ]
    },
    {
      "cell_type": "markdown",
      "metadata": {
        "id": "zyx46tCX9uKC",
        "colab_type": "text"
      },
      "source": [
        "### np.array()"
      ]
    },
    {
      "cell_type": "code",
      "metadata": {
        "id": "v6fvxug789Ir",
        "colab_type": "code",
        "outputId": "502da4ed-fe3f-4f16-adf4-ab5cad54360f",
        "colab": {
          "base_uri": "https://localhost:8080/",
          "height": 34
        }
      },
      "source": [
        "# khởi tạo mảng một chiều bằng hàm np.array()\n",
        "x = np.array([1, 2, 3, 'a'])\n",
        "print(x)"
      ],
      "execution_count": 0,
      "outputs": [
        {
          "output_type": "stream",
          "text": [
            "['1' '2' '3' 'a']\n"
          ],
          "name": "stdout"
        }
      ]
    },
    {
      "cell_type": "code",
      "metadata": {
        "id": "sHDQv3Ra-_Hs",
        "colab_type": "code",
        "outputId": "0970ef2e-0b21-49b9-fe40-e36c44a4b68a",
        "colab": {
          "base_uri": "https://localhost:8080/",
          "height": 34
        }
      },
      "source": [
        "# kiểu dữ liệu numpy array\n",
        "type(x)"
      ],
      "execution_count": 0,
      "outputs": [
        {
          "output_type": "execute_result",
          "data": {
            "text/plain": [
              "numpy.ndarray"
            ]
          },
          "metadata": {
            "tags": []
          },
          "execution_count": 68
        }
      ]
    },
    {
      "cell_type": "code",
      "metadata": {
        "id": "v1Ij23ONABVl",
        "colab_type": "code",
        "outputId": "db14b4d4-1a25-48e2-8d5f-13850e827d16",
        "colab": {
          "base_uri": "https://localhost:8080/",
          "height": 34
        }
      },
      "source": [
        "# kiểu dữ liệu của 1 phần tử trong numpy array\n",
        "type(x[0])"
      ],
      "execution_count": 0,
      "outputs": [
        {
          "output_type": "execute_result",
          "data": {
            "text/plain": [
              "numpy.str_"
            ]
          },
          "metadata": {
            "tags": []
          },
          "execution_count": 43
        }
      ]
    },
    {
      "cell_type": "code",
      "metadata": {
        "id": "loJFnncS5CsJ",
        "colab_type": "code",
        "outputId": "6432b641-d299-419d-d754-6712418d8269",
        "colab": {
          "base_uri": "https://localhost:8080/",
          "height": 34
        }
      },
      "source": [
        "'''Todo: thử khai báo vector  x = [1, 2, 3, 4, 5, 6, 7, 8, 9, 10]'''\n",
        "# your code here "
      ],
      "execution_count": 0,
      "outputs": [
        {
          "output_type": "stream",
          "text": [
            "[ 1  2  3  4  5  6  7  8  9 10]\n"
          ],
          "name": "stdout"
        }
      ]
    },
    {
      "cell_type": "code",
      "metadata": {
        "id": "kN82p5Qzl4xL",
        "colab_type": "code",
        "outputId": "1706586d-b543-4da7-b89b-664fb7843e48",
        "colab": {
          "base_uri": "https://localhost:8080/",
          "height": 51
        }
      },
      "source": [
        "# tạo mảng 2 chiều\n",
        "np.array([[1, 2, 3], [4, 5, 6]])"
      ],
      "execution_count": 0,
      "outputs": [
        {
          "output_type": "execute_result",
          "data": {
            "text/plain": [
              "array([[1, 2, 3],\n",
              "       [4, 5, 6]])"
            ]
          },
          "metadata": {
            "tags": []
          },
          "execution_count": 38
        }
      ]
    },
    {
      "cell_type": "code",
      "metadata": {
        "id": "Ju6ZAuSGmVET",
        "colab_type": "code",
        "outputId": "b8066a2c-ab35-448e-82d7-824a7f2f385e",
        "colab": {
          "base_uri": "https://localhost:8080/",
          "height": 102
        }
      },
      "source": [
        "# tạo mảng 3 chiều\n",
        "arr3d = np.array([[[1, 1], [2, 2]], [[3, 3], [4, 4]]])\n",
        "print(arr3d)"
      ],
      "execution_count": 0,
      "outputs": [
        {
          "output_type": "stream",
          "text": [
            "[[[1 1]\n",
            "  [2 2]]\n",
            "\n",
            " [[3 3]\n",
            "  [4 4]]]\n"
          ],
          "name": "stdout"
        }
      ]
    },
    {
      "cell_type": "code",
      "metadata": {
        "id": "_Uf9Vscp5KRD",
        "colab_type": "code",
        "outputId": "4c29e6ed-228d-4695-b640-ccc3062fdae2",
        "colab": {
          "base_uri": "https://localhost:8080/",
          "height": 34
        }
      },
      "source": [
        "# chiều của mảng: trả về 1 tuple gồm n phần tử với n là số chiều của mảng\n",
        "arr3d.shape"
      ],
      "execution_count": 0,
      "outputs": [
        {
          "output_type": "execute_result",
          "data": {
            "text/plain": [
              "(2, 2, 2)"
            ]
          },
          "metadata": {
            "tags": []
          },
          "execution_count": 61
        }
      ]
    },
    {
      "cell_type": "code",
      "metadata": {
        "id": "HPX8pFdKyeJH",
        "colab_type": "code",
        "outputId": "0049ae86-0644-410a-93de-9ffb41071938",
        "colab": {
          "base_uri": "https://localhost:8080/",
          "height": 221
        }
      },
      "source": [
        "'''Todo: tạo 1 mảng 4 chiều với các phần tử số nguyên bất kì'''\n",
        "# your code here"
      ],
      "execution_count": 0,
      "outputs": [
        {
          "output_type": "stream",
          "text": [
            "[[[[1 1]\n",
            "   [2 2]]\n",
            "\n",
            "  [[3 3]\n",
            "   [4 4]]]\n",
            "\n",
            "\n",
            " [[[5 5]\n",
            "   [6 6]]\n",
            "\n",
            "  [[7 7]\n",
            "   [8 8]]]]\n"
          ],
          "name": "stdout"
        }
      ]
    },
    {
      "cell_type": "markdown",
      "metadata": {
        "id": "UE_GGODRo9AY",
        "colab_type": "text"
      },
      "source": [
        "### np.arange()"
      ]
    },
    {
      "cell_type": "code",
      "metadata": {
        "id": "hdn2TdZSpPhw",
        "colab_type": "code",
        "outputId": "77544cc0-8ffa-44ae-d6b7-e92a074a92eb",
        "colab": {
          "base_uri": "https://localhost:8080/",
          "height": 68
        }
      },
      "source": [
        "# tạo mảng theo cấp số cộng\n",
        "print(np.arange(3)) # (0, <stop>)\n",
        "print(np.arange(3, 10)) # (<start>, <stop>)\n",
        "print(np.arange(3, 10, 3)) # (<start>, <stop>, <step>)"
      ],
      "execution_count": 0,
      "outputs": [
        {
          "output_type": "stream",
          "text": [
            "[0 1 2]\n",
            "[3 4 5 6 7 8 9]\n",
            "[3 6 9]\n"
          ],
          "name": "stdout"
        }
      ]
    },
    {
      "cell_type": "code",
      "metadata": {
        "id": "WRcnn7JVMBDy",
        "colab_type": "code",
        "outputId": "014aa822-1b08-4a62-9f5b-96e5858757d8",
        "colab": {
          "base_uri": "https://localhost:8080/",
          "height": 34
        }
      },
      "source": [
        "'''Xây dựng mảng các luỹ thừa của 2 nhỏ hơn 1025, bao gồm cả 1 = 2**0. \n",
        "Gợi ý: Nếu a là một mảng và b là một số thì b**a sẽ trả về một mảng cùng kích thước với a \n",
        "mà phần tử có chỉ số i bằng b**a[i], với ** là toán tử luỹ thừa.'''\n",
        "# your code here"
      ],
      "execution_count": 0,
      "outputs": [
        {
          "output_type": "stream",
          "text": [
            "[   1    2    4    8   16   32   64  128  256  512 1024]\n"
          ],
          "name": "stdout"
        }
      ]
    },
    {
      "cell_type": "code",
      "metadata": {
        "id": "mhe_GrfspQ7H",
        "colab_type": "code",
        "outputId": "9f03fa9e-733b-472a-9a61-598d75d7aa98",
        "colab": {
          "base_uri": "https://localhost:8080/",
          "height": 68
        }
      },
      "source": [
        "# tổng số phần tử của mảng === tích giá trị các chiều của mảng\n",
        "arr = np.arange(0, 10, 3) # mảng 1 chiều chứa 4 phần tử\n",
        "print(arr)\n",
        "arr = arr.reshape(2, 2) # mảng 2 chiều, mỗi chiều chứa 2 phần tử\n",
        "print(arr)"
      ],
      "execution_count": 0,
      "outputs": [
        {
          "output_type": "stream",
          "text": [
            "[0 3 6 9]\n",
            "[[0 3]\n",
            " [6 9]]\n"
          ],
          "name": "stdout"
        }
      ]
    },
    {
      "cell_type": "code",
      "metadata": {
        "id": "gjx1KbRmx2EM",
        "colab_type": "code",
        "outputId": "835e4890-844b-46d6-baff-12441191f265",
        "colab": {
          "base_uri": "https://localhost:8080/",
          "height": 85
        }
      },
      "source": [
        "'''Tạo mảng 1 chiều gồm 16 phần tử  (1, 2,...15, 16), sau đó chuyển thành dạng ma trận vuông 4x4'''\n",
        "# your code here"
      ],
      "execution_count": 0,
      "outputs": [
        {
          "output_type": "stream",
          "text": [
            "[[ 1  2  3  4]\n",
            " [ 5  6  7  8]\n",
            " [ 9 10 11 12]\n",
            " [13 14 15 16]]\n"
          ],
          "name": "stdout"
        }
      ]
    },
    {
      "cell_type": "markdown",
      "metadata": {
        "id": "bjQI3kbew59a",
        "colab_type": "text"
      },
      "source": [
        "### np.zeros(), np.ones() và np.full()"
      ]
    },
    {
      "cell_type": "code",
      "metadata": {
        "id": "L0L3ieroBGUQ",
        "colab_type": "code",
        "outputId": "d659c5b7-77f2-462e-ad47-39703ca8760e",
        "colab": {
          "base_uri": "https://localhost:8080/",
          "height": 68
        }
      },
      "source": [
        "# Khởi tạo vector toàn chứa giá trị 0\n",
        "arr0 = np.zeros(5)\n",
        "# Khởi tạo vector toàn chứa giá trị 1\n",
        "arr1 = np.ones(5)\n",
        "\n",
        "# Khởi tạo vector toàn chứa giá trị được quy định\n",
        "val = 10\n",
        "arrVal = np.full(5, val)\n",
        "\n",
        "print(arr0)\n",
        "print(arr1)\n",
        "print(arrVal)"
      ],
      "execution_count": 0,
      "outputs": [
        {
          "output_type": "stream",
          "text": [
            "[0. 0. 0. 0. 0.]\n",
            "[1. 1. 1. 1. 1.]\n",
            "[10 10 10 10 10]\n"
          ],
          "name": "stdout"
        }
      ]
    },
    {
      "cell_type": "code",
      "metadata": {
        "id": "JrvwBica3ER0",
        "colab_type": "code",
        "outputId": "4769ec5b-4610-466b-9a6f-c978764975de",
        "colab": {
          "base_uri": "https://localhost:8080/",
          "height": 68
        }
      },
      "source": [
        "# khởi tạo ma trận đơn vị kích thước 3x3\n",
        "idMat = np.eye(3)\n",
        "print(idMat)"
      ],
      "execution_count": 0,
      "outputs": [
        {
          "output_type": "stream",
          "text": [
            "[[1. 0. 0.]\n",
            " [0. 1. 0.]\n",
            " [0. 0. 1.]]\n"
          ],
          "name": "stdout"
        }
      ]
    },
    {
      "cell_type": "markdown",
      "metadata": {
        "id": "IxW-X9hZ3SB3",
        "colab_type": "text"
      },
      "source": [
        "### np.random()"
      ]
    },
    {
      "cell_type": "code",
      "metadata": {
        "id": "38QFU2nM3MC-",
        "colab_type": "code",
        "outputId": "5f8fd2ed-182f-4b3b-f31c-65669bf526e5",
        "colab": {
          "base_uri": "https://localhost:8080/",
          "height": 51
        }
      },
      "source": [
        "# tạo mảng 2 chiều có kích thước 2x3\n",
        "print(np.random.random((2, 3)))"
      ],
      "execution_count": 0,
      "outputs": [
        {
          "output_type": "stream",
          "text": [
            "[[0.62458755 0.10245283 0.17433315]\n",
            " [0.42482323 0.04846587 0.42415937]]\n"
          ],
          "name": "stdout"
        }
      ]
    },
    {
      "cell_type": "markdown",
      "metadata": {
        "id": "cuZVxCjq_ON6",
        "colab_type": "text"
      },
      "source": [
        "## Array Indexing"
      ]
    },
    {
      "cell_type": "markdown",
      "metadata": {
        "id": "bgJ5TtL6bOVR",
        "colab_type": "text"
      },
      "source": [
        "###  Dùng chỉ số (Integer Array Indexing) và Slicing"
      ]
    },
    {
      "cell_type": "code",
      "metadata": {
        "id": "HvwPpCFFbmBl",
        "colab_type": "code",
        "colab": {}
      },
      "source": [
        "a = np.array([[1,2,3,4], \n",
        "              [5,6,7,8], \n",
        "              [9,10,11,12]])"
      ],
      "execution_count": 0,
      "outputs": []
    },
    {
      "cell_type": "code",
      "metadata": {
        "id": "DB2INovJ_XqP",
        "colab_type": "code",
        "outputId": "7fb645e0-29cc-4ebf-f607-0e13c0985397",
        "colab": {
          "base_uri": "https://localhost:8080/",
          "height": 51
        }
      },
      "source": [
        "# Dùng chỉ số để lấy phần tử hàng 1, cột 2\n",
        "print(a[1][2]) # 7\n",
        "print(a[1, 2]) # 7"
      ],
      "execution_count": 0,
      "outputs": [
        {
          "output_type": "stream",
          "text": [
            "7\n",
            "7\n"
          ],
          "name": "stdout"
        }
      ]
    },
    {
      "cell_type": "code",
      "metadata": {
        "id": "mf8WcwIYbSaJ",
        "colab_type": "code",
        "outputId": "4a7b5fe9-c39a-4c4e-cf42-cabf184e1af3",
        "colab": {
          "base_uri": "https://localhost:8080/",
          "height": 51
        }
      },
      "source": [
        "# Dùng slicing để lấy 2 hàng đầu tiên của 2 cột đầu tiên\n",
        "print(a[:2][:2])"
      ],
      "execution_count": 0,
      "outputs": [
        {
          "output_type": "stream",
          "text": [
            "[[1 2 3 4]\n",
            " [5 6 7 8]]\n"
          ],
          "name": "stdout"
        }
      ]
    },
    {
      "cell_type": "code",
      "metadata": {
        "id": "HenUNvCNbuiu",
        "colab_type": "code",
        "outputId": "cd46f1d1-166a-4a5b-9b20-0939989ed4ee",
        "colab": {
          "base_uri": "https://localhost:8080/",
          "height": 34
        }
      },
      "source": [
        "# Kết hợp dùng slicing và dùng chỉ số\n",
        "# Chú ý: sẽ tạo ra mảng có rank thấp hơn mảng cũ\n",
        "r1 = a[1, :] # hàng 1 của a (mảng con này có rank là 1)\n",
        "print(r1, r1.shape)"
      ],
      "execution_count": 0,
      "outputs": [
        {
          "output_type": "stream",
          "text": [
            "[5 6 7 8] (4,)\n"
          ],
          "name": "stdout"
        }
      ]
    },
    {
      "cell_type": "markdown",
      "metadata": {
        "id": "xTE04c3rdM0e",
        "colab_type": "text"
      },
      "source": [
        "### Boolean Array Indexing"
      ]
    },
    {
      "cell_type": "code",
      "metadata": {
        "id": "tnTlRI_Tcwfz",
        "colab_type": "code",
        "outputId": "36ca031e-5002-47ac-e05c-4d5496e3c8a3",
        "colab": {
          "base_uri": "https://localhost:8080/",
          "height": 68
        }
      },
      "source": [
        "a = np.array([[1,2], [3, 4], [5, 6]])\n",
        "bool_idx = (a > 2) # Tìm các phần tử lớn hơn 2;\n",
        "# Trả về 1 numpy array of Booleans có shape như mảng a\n",
        "# và giá trị tại mỗi phần tử là \n",
        "# True nếu phần tử của a tại đó > 2,\n",
        "# False cho trường hợp ngược lại.\n",
        "print(bool_idx)"
      ],
      "execution_count": 0,
      "outputs": [
        {
          "output_type": "stream",
          "text": [
            "[[False False]\n",
            " [ True  True]\n",
            " [ True  True]]\n"
          ],
          "name": "stdout"
        }
      ]
    },
    {
      "cell_type": "markdown",
      "metadata": {
        "id": "WMmiXQJwhocm",
        "colab_type": "text"
      },
      "source": [
        "## Các phép toán với NumPy arrays"
      ]
    },
    {
      "cell_type": "markdown",
      "metadata": {
        "id": "7dBxXftahxja",
        "colab_type": "text"
      },
      "source": [
        "### Các phép toán chỉ với một dòng code."
      ]
    },
    {
      "cell_type": "code",
      "metadata": {
        "id": "XZ6zwCDpgEUd",
        "colab_type": "code",
        "outputId": "b6851fb1-c641-48c3-ce4d-682549079b56",
        "colab": {
          "base_uri": "https://localhost:8080/",
          "height": 51
        }
      },
      "source": [
        "x = np.array([[1,2],[3,4]], dtype=np.float64)\n",
        "y = np.array([[5,6],[7,8]], dtype=np.float64)\n",
        "print(x ** y)"
      ],
      "execution_count": 0,
      "outputs": [
        {
          "output_type": "stream",
          "text": [
            "[[1.0000e+00 6.4000e+01]\n",
            " [2.1870e+03 6.5536e+04]]\n"
          ],
          "name": "stdout"
        }
      ]
    },
    {
      "cell_type": "code",
      "metadata": {
        "id": "mvu2gF0Shm2H",
        "colab_type": "code",
        "outputId": "8e6d0839-d900-4455-b34d-c9e22cefdb1e",
        "colab": {
          "base_uri": "https://localhost:8080/",
          "height": 85
        }
      },
      "source": [
        "# Tổng của 2 mảng, cả 2 cách cho cùng một kết quả\n",
        "# [[ 6.0  8.0]\n",
        "#  [10.0 12.0]]\n",
        "print(x + y)\n",
        "print(np.add(x, y))"
      ],
      "execution_count": 0,
      "outputs": [
        {
          "output_type": "stream",
          "text": [
            "[[ 6.  8.]\n",
            " [10. 12.]]\n",
            "[[ 6.  8.]\n",
            " [10. 12.]]\n"
          ],
          "name": "stdout"
        }
      ]
    },
    {
      "cell_type": "code",
      "metadata": {
        "id": "bbleShBth4pa",
        "colab_type": "code",
        "outputId": "6b035db2-34dc-4d12-bba8-e37c337c0db2",
        "colab": {
          "base_uri": "https://localhost:8080/",
          "height": 85
        }
      },
      "source": [
        "# Hiệu 2 mảng\n",
        "# [[-4.0 -4.0]\n",
        "#  [-4.0 -4.0]]\n",
        "print(x - y)\n",
        "print(np.subtract(x, y))"
      ],
      "execution_count": 0,
      "outputs": [
        {
          "output_type": "stream",
          "text": [
            "[[-4. -4.]\n",
            " [-4. -4.]]\n",
            "[[-4. -4.]\n",
            " [-4. -4.]]\n"
          ],
          "name": "stdout"
        }
      ]
    },
    {
      "cell_type": "code",
      "metadata": {
        "id": "TJok7YCsh-Ne",
        "colab_type": "code",
        "outputId": "762920bc-716e-43a2-bde9-4092d48799e6",
        "colab": {
          "base_uri": "https://localhost:8080/",
          "height": 85
        }
      },
      "source": [
        "# Tính tích từng phần tử của x nhân với từng phần tử của y\n",
        "# [[ 5.0 12.0]\n",
        "#  [21.0 32.0]]\n",
        "print(x * y)\n",
        "print(np.multiply(x, y))"
      ],
      "execution_count": 0,
      "outputs": [
        {
          "output_type": "stream",
          "text": [
            "[[ 5. 12.]\n",
            " [21. 32.]]\n",
            "[[ 5. 12.]\n",
            " [21. 32.]]\n"
          ],
          "name": "stdout"
        }
      ]
    },
    {
      "cell_type": "code",
      "metadata": {
        "id": "sNfmZI9oiAK1",
        "colab_type": "code",
        "outputId": "a086f80a-05e7-45ae-ae5a-f904117e6a45",
        "colab": {
          "base_uri": "https://localhost:8080/",
          "height": 85
        }
      },
      "source": [
        "# Tương tự thương của từng phần x chia với từng phần tử y\n",
        "# [[ 0.2         0.33333333]\n",
        "#  [ 0.42857143  0.5       ]]\n",
        "print(x / y)\n",
        "print(np.divide(x, y))"
      ],
      "execution_count": 0,
      "outputs": [
        {
          "output_type": "stream",
          "text": [
            "[[0.2        0.33333333]\n",
            " [0.42857143 0.5       ]]\n",
            "[[0.2        0.33333333]\n",
            " [0.42857143 0.5       ]]\n"
          ],
          "name": "stdout"
        }
      ]
    },
    {
      "cell_type": "code",
      "metadata": {
        "id": "61_cldkQiHXC",
        "colab_type": "code",
        "outputId": "c19a53f9-e261-4415-c2e4-523adb482f95",
        "colab": {
          "base_uri": "https://localhost:8080/",
          "height": 51
        }
      },
      "source": [
        "# Căn bậc 2 từng phần tử trong x\n",
        "# [[ 1.          1.41421356]\n",
        "#  [ 1.73205081  2.        ]]\n",
        "print(np.sqrt(x))"
      ],
      "execution_count": 0,
      "outputs": [
        {
          "output_type": "stream",
          "text": [
            "[[1.         1.41421356]\n",
            " [1.73205081 2.        ]]\n"
          ],
          "name": "stdout"
        }
      ]
    },
    {
      "cell_type": "markdown",
      "metadata": {
        "id": "B2IPnZtujK-s",
        "colab_type": "text"
      },
      "source": [
        "### Để nhân 2 ma trận hoặc nhân vector với ma trận trong numpy, chúng ta sử dụng hàm dot"
      ]
    },
    {
      "cell_type": "code",
      "metadata": {
        "id": "2Klnk62qjQos",
        "colab_type": "code",
        "colab": {}
      },
      "source": [
        "x = np.array([[1,2],[3,4]]) # mảng rank 2 (ma trận)\n",
        "y = np.array([[5,6],[7,8]]) # mảng rank 2 (ma trận)\n",
        "v = np.array([9,10]) # mảng rank 1 (vector)\n",
        "w = np.array([11, 12]) # mảng rank 1 (vector)"
      ],
      "execution_count": 0,
      "outputs": []
    },
    {
      "cell_type": "code",
      "metadata": {
        "id": "VRzOissAjU2-",
        "colab_type": "code",
        "outputId": "99b1c8f0-1475-42ce-859e-204fe5bd2216",
        "colab": {
          "base_uri": "https://localhost:8080/",
          "height": 51
        }
      },
      "source": [
        "# Tích trong của 2 vector; Cả 2 đều cho kết quả là 219\n",
        "print(v.dot(w))\n",
        "print(np.dot(v, w))"
      ],
      "execution_count": 0,
      "outputs": [
        {
          "output_type": "stream",
          "text": [
            "219\n",
            "219\n"
          ],
          "name": "stdout"
        }
      ]
    },
    {
      "cell_type": "code",
      "metadata": {
        "id": "0ljyCEDbjgZk",
        "colab_type": "code",
        "outputId": "9aee4f02-bd55-40f7-ccf7-41a319cd68b8",
        "colab": {
          "base_uri": "https://localhost:8080/",
          "height": 51
        }
      },
      "source": [
        "# Nhân ma trận với vector; cả 2 đều cho mảng rank 1: [29 67]\n",
        "print(x.dot(v))\n",
        "print(np.dot(x, v))"
      ],
      "execution_count": 0,
      "outputs": [
        {
          "output_type": "stream",
          "text": [
            "[29 67]\n",
            "[29 67]\n"
          ],
          "name": "stdout"
        }
      ]
    },
    {
      "cell_type": "code",
      "metadata": {
        "id": "fkRj8jhJjl74",
        "colab_type": "code",
        "outputId": "ec435a8e-86e8-4cbe-bdb2-62a895fd2ec9",
        "colab": {
          "base_uri": "https://localhost:8080/",
          "height": 85
        }
      },
      "source": [
        "# Ma trận với ma trận; cả 2 đều cho mảng rank 2\n",
        "# [[19 22]\n",
        "#  [43 50]]\n",
        "print(x.dot(y))\n",
        "print(np.dot(x, y))"
      ],
      "execution_count": 0,
      "outputs": [
        {
          "output_type": "stream",
          "text": [
            "[[19 22]\n",
            " [43 50]]\n",
            "[[19 22]\n",
            " [43 50]]\n"
          ],
          "name": "stdout"
        }
      ]
    },
    {
      "cell_type": "markdown",
      "metadata": {
        "id": "ApACTtNikTUQ",
        "colab_type": "text"
      },
      "source": [
        "### Các hàm toán học khác:"
      ]
    },
    {
      "cell_type": "markdown",
      "metadata": {
        "id": "GM0tufMTqrOQ",
        "colab_type": "text"
      },
      "source": [
        "Các hàm toán học như np.sum ,np.abs, np.log, np.exp, np.sin, np.cos, np.tan cũng áp dụng lên từng phần tử của mảng. Hàm np.log là logarit tự nhiên, hàm np.exp là hàm e^x."
      ]
    },
    {
      "cell_type": "code",
      "metadata": {
        "id": "OIVPmhWXjn61",
        "colab_type": "code",
        "outputId": "3def7808-1714-4321-fcea-e11e966d65d1",
        "colab": {
          "base_uri": "https://localhost:8080/",
          "height": 68
        }
      },
      "source": [
        "# Ví dụ hàm sum\n",
        "x = np.array([[1,2],[3,4]])\n",
        "\n",
        "print(np.sum(x))  # Tổng các phần tử của mảng; prints \"10\"\n",
        "print(np.sum(x, axis=0))  # Tính tổng theo từng cột; prints \"[4 6]\"\n",
        "print(np.sum(x, axis=1))  # Tính tổng theo từng hàng; prints \"[3 7]\""
      ],
      "execution_count": 0,
      "outputs": [
        {
          "output_type": "stream",
          "text": [
            "10\n",
            "[4 6]\n",
            "[3 7]\n"
          ],
          "name": "stdout"
        }
      ]
    },
    {
      "cell_type": "markdown",
      "metadata": {
        "id": "nP95DEPozmBU",
        "colab_type": "text"
      },
      "source": [
        "Để tìm giá trị lớn nhất hay nhỏ nhất của mảng một chiều, chúng ta đơn giản sử dụng hàm np.min hoặc np.max. Ví dụ:"
      ]
    },
    {
      "cell_type": "code",
      "metadata": {
        "colab_type": "code",
        "id": "Ysc0RTrpqJkW",
        "outputId": "f92e6f09-bb86-40e5-82b5-0f8b450ce601",
        "colab": {
          "base_uri": "https://localhost:8080/",
          "height": 51
        }
      },
      "source": [
        "a = np.arange(10)\n",
        "a[-1] = -2 \n",
        "print(np.min(a))\n",
        "print(np.max(a))"
      ],
      "execution_count": 0,
      "outputs": [
        {
          "output_type": "stream",
          "text": [
            "-2\n",
            "8\n"
          ],
          "name": "stdout"
        }
      ]
    },
    {
      "cell_type": "code",
      "metadata": {
        "id": "ZGW9nJulzu9n",
        "colab_type": "code",
        "outputId": "358880eb-0614-4573-c503-099ebabb93f8",
        "colab": {
          "base_uri": "https://localhost:8080/",
          "height": 51
        }
      },
      "source": [
        "# hoặc:\n",
        "print(a.min()) # -2\n",
        "print(a.max()) # 8"
      ],
      "execution_count": 0,
      "outputs": [
        {
          "output_type": "stream",
          "text": [
            "-2\n",
            "8\n"
          ],
          "name": "stdout"
        }
      ]
    },
    {
      "cell_type": "markdown",
      "metadata": {
        "id": "QE7GGoR4z1yo",
        "colab_type": "text"
      },
      "source": [
        "Để tìm chỉ số mà tại đó mảng một chiều đạt giá trị nhỏ nhất hay lớn nhất, ta có thể sử dụng np.argmin, hoặc np.argmax:"
      ]
    },
    {
      "cell_type": "code",
      "metadata": {
        "id": "cg7kZbwlz43D",
        "colab_type": "code",
        "outputId": "fe54b969-0e3e-4dab-af83-9cad551ad2cb",
        "colab": {
          "base_uri": "https://localhost:8080/",
          "height": 51
        }
      },
      "source": [
        "print(np.argmin(a))\n",
        "print(np.argmax(a))"
      ],
      "execution_count": 0,
      "outputs": [
        {
          "output_type": "stream",
          "text": [
            "9\n",
            "8\n"
          ],
          "name": "stdout"
        }
      ]
    },
    {
      "cell_type": "code",
      "metadata": {
        "id": "rZtpDWF9z9kc",
        "colab_type": "code",
        "outputId": "6981fd02-1618-4854-be50-2c32b075f13b",
        "colab": {
          "base_uri": "https://localhost:8080/",
          "height": 51
        }
      },
      "source": [
        "# hoặc:\n",
        "print(a.argmin()) # 9\n",
        "print(a.argmax()) # 8 "
      ],
      "execution_count": 0,
      "outputs": [
        {
          "output_type": "stream",
          "text": [
            "9\n",
            "8\n"
          ],
          "name": "stdout"
        }
      ]
    },
    {
      "cell_type": "markdown",
      "metadata": {
        "id": "f5LLMz3nkZO3",
        "colab_type": "text"
      },
      "source": [
        "### Ma trận chuyển vị"
      ]
    },
    {
      "cell_type": "code",
      "metadata": {
        "id": "GBIyrjgBj9Ek",
        "colab_type": "code",
        "outputId": "22a4628a-43f5-4d51-8d03-be2f82152594",
        "colab": {
          "base_uri": "https://localhost:8080/",
          "height": 85
        }
      },
      "source": [
        "# lấy ma trận chuyển vị bằng thuộc tính T\n",
        "x = np.array([[1,2], [3,4]])\n",
        "print(x)    \n",
        "print(x.T)"
      ],
      "execution_count": 0,
      "outputs": [
        {
          "output_type": "stream",
          "text": [
            "[[1 2]\n",
            " [3 4]]\n",
            "[[1 3]\n",
            " [2 4]]\n"
          ],
          "name": "stdout"
        }
      ]
    },
    {
      "cell_type": "markdown",
      "metadata": {
        "id": "5gjsU80v0_ZU",
        "colab_type": "text"
      },
      "source": [
        "### Broadcasting"
      ]
    },
    {
      "cell_type": "code",
      "metadata": {
        "id": "3fKv-amx0-6W",
        "colab_type": "code",
        "outputId": "956bfbf3-915d-4a49-dae6-faba3a4ac5c8",
        "colab": {
          "base_uri": "https://localhost:8080/",
          "height": 85
        }
      },
      "source": [
        "# Cộng vector v vào mỗi hàng của ma trận x,\n",
        "# Lưu trữ kết quả trong ma trận y\n",
        "x = np.array([[1,2,3], [4,5,6], [7,8,9], [10, 11, 12]])\n",
        "v = np.array([1, 0, 1])\n",
        "y = x + v  # Tự động cộng v vào từng hàng của x sử dụng broadcasting\n",
        "print(y)"
      ],
      "execution_count": 0,
      "outputs": [
        {
          "output_type": "stream",
          "text": [
            "[[ 2  2  4]\n",
            " [ 5  5  7]\n",
            " [ 8  8 10]\n",
            " [11 11 13]]\n"
          ],
          "name": "stdout"
        }
      ]
    },
    {
      "cell_type": "markdown",
      "metadata": {
        "id": "Ze8kjJbv2gc_",
        "colab_type": "text"
      },
      "source": [
        "Todo: Cho một mảng 1 chiều x = [3, 5, 2, 1, 6]\n",
        "tính mảng y và z sao cho y[i] = pi/2 - x[i] và z[i] = cos(x[i]) - sin(x[i]). Sau đó trả về tổng các phần tử của z"
      ]
    },
    {
      "cell_type": "code",
      "metadata": {
        "id": "XRAG4YZCxoOb",
        "colab_type": "code",
        "outputId": "24d30ccd-7a30-4361-c47c-8aaedf294ddf",
        "colab": {
          "base_uri": "https://localhost:8080/",
          "height": 51
        }
      },
      "source": [
        "'''Todo: Cho một mảng 1 chiều x, tính mảng y và z sao cho y[i] = pi/2 - x[i] và z[i] = cos(x[i]) - sin(x[i]). Sau đó trả về tổng các phần tử của z'''\n",
        "import math\n",
        "pi = math.pi\n",
        "x = np.array([3, 5, 2, 1, 6])\n",
        "# your code here"
      ],
      "execution_count": 0,
      "outputs": [
        {
          "output_type": "stream",
          "text": [
            "y =  [-1.42920367 -3.42920367 -0.42920367  0.57079633 -4.42920367]\n",
            "z =  [-0.84887249 -0.67526209  0.49315059  1.38177329  0.68075479]\n"
          ],
          "name": "stdout"
        }
      ]
    }
  ]
}
